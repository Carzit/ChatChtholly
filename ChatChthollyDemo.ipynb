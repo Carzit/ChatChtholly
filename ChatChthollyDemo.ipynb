{
  "nbformat": 4,
  "nbformat_minor": 0,
  "metadata": {
    "colab": {
      "provenance": []
    },
    "kernelspec": {
      "name": "python3",
      "display_name": "Python 3"
    },
    "language_info": {
      "name": "python"
    }
  },
  "cells": [
    {
      "cell_type": "markdown",
      "source": [
        "# Environment Build\n"
      ],
      "metadata": {
        "id": "Uo08P7x-ny7w"
      }
    },
    {
      "cell_type": "markdown",
      "source": [
        "Step 1"
      ],
      "metadata": {
        "id": "nvjY3hz_oFYQ"
      }
    },
    {
      "cell_type": "code",
      "source": [
        "# Clone git repo\n",
        "!git clone https://github.com/Carzit/ChatChtholly.git\n",
        "!wget https://github.com/Carzit/ChatChtholly/releases/download/MODEL/Chtholly.pth\n",
        "!wget https://github.com/Carzit/ChatChtholly/releases/download/MODEL/config.json\n",
        "!mv Chtholly.pth /content/ChatChtholly/model/\n",
        "!mv config.json /content/ChatChtholly/model/"
      ],
      "metadata": {
        "id": "1ki3tXj0B70Y"
      },
      "execution_count": null,
      "outputs": []
    },
    {
      "cell_type": "markdown",
      "source": [
        "Step 2"
      ],
      "metadata": {
        "id": "bQDF9a83oIYY"
      }
    },
    {
      "cell_type": "code",
      "source": [
        "%cd ChatChtholly"
      ],
      "metadata": {
        "id": "YULD4mNuLokK"
      },
      "execution_count": null,
      "outputs": []
    },
    {
      "cell_type": "markdown",
      "source": [
        "Step 3"
      ],
      "metadata": {
        "id": "e-mJeX70oLIL"
      }
    },
    {
      "cell_type": "code",
      "source": [
        "!pip install -r requirements.txt\n",
        "!pip install PyVirtualDisplay\n",
        "!playwright install\n",
        "!playwright install-deps \n",
        "!sudo apt install xvfb"
      ],
      "metadata": {
        "id": "dr5xsAAhL7wB"
      },
      "execution_count": null,
      "outputs": []
    },
    {
      "cell_type": "markdown",
      "source": [
        "# ChatChtholly Demo\n"
      ],
      "metadata": {
        "id": "v2eMbJzYgjOu"
      }
    },
    {
      "cell_type": "markdown",
      "source": [
        "以下单元格为ChatChtholly的主程序，您可以体验与珂朵莉(Chtholly)的一次对话过程。\n",
        "\n",
        "- 运行单元格，开始初始化。\n",
        "“Chtholly is ready! Now you can chat with her.”字样出现时，初始化完毕，您将进入与珂朵莉（Chtholly）的对话模式。  \n",
        "每当出现“You：”时，您即可在其下一行中输入想要发送给珂朵莉的文字。按回车键即可发送。 \n",
        "\n",
        "- “Text Generating...”字样出现时，即表明正在进行文字生成。  \n",
        "生成完毕后，您会在“Chtholly:”字样下看到珂朵莉的回复，以原始语言及其日语翻译呈现。 \n",
        "\n",
        "- “Voice Generating...”字样出现时，即表明正在进行语音生成。  \n",
        "生成完毕后，会出现“Successfully saved!”字样。然后将会生成一个音频播放窗口，点击播放键即可听到该段回复的对应语音（以珂朵莉的声线呈现！） \n",
        "\n",
        "- 如上，若您想要再次对话，可以再次运行单元格。(请放心，珂朵莉会记住您曾经说过的话的！)"
      ],
      "metadata": {
        "id": "k2_syxVDg75G"
      }
    },
    {
      "cell_type": "code",
      "source": [
        "!python Demo.py\n",
        "import IPython\n",
        "from IPython.display import Audio\n",
        "display(Audio('output.wav'))"
      ],
      "metadata": {
        "id": "vTgO93-6dp1D"
      },
      "execution_count": null,
      "outputs": []
    },
    {
      "cell_type": "markdown",
      "source": [
        "若您想体验更快速且流畅循环的对话过程，请在本地部署ChatChtholly:\n",
        "- CharacterChtholly实现了类似本Demo的文字输入交互\n",
        "- CharacterChthollyVoice实现了语音输入交互\n",
        "- VtuberChtholly实现了bilibili直播间弹幕的监听与交互"
      ],
      "metadata": {
        "id": "9rC5CY3NxDBx"
      }
    }
  ]
}
